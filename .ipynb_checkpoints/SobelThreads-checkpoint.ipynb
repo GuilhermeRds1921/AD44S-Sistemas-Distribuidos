{
 "cells": [
  {
   "cell_type": "code",
   "execution_count": 2,
   "id": "711673c8-f3a5-4a97-b7df-9d1bc33be27b",
   "metadata": {},
   "outputs": [],
   "source": [
    "import cv2\n",
    "import numpy as np\n",
    "import time"
   ]
  },
  {
   "cell_type": "code",
   "execution_count": 4,
   "id": "82a80304-3a02-45c3-a874-f6b2d2b77271",
   "metadata": {},
   "outputs": [
    {
     "name": "stdout",
     "output_type": "stream",
     "text": [
      "Tempo total (sem paralelismo): 0.0338 segundos\n"
     ]
    }
   ],
   "source": [
    "def aplicar_sobel(img_path):\n",
    "    # Carrega a imagem em escala de cinza\n",
    "    img = cv2.imread(img_path, cv2.IMREAD_GRAYSCALE)\n",
    "\n",
    "    # Aplica o filtro Sobel em X e Y\n",
    "    sobelx = cv2.Sobel(img, cv2.CV_64F, 1, 0, ksize=3)\n",
    "    sobely = cv2.Sobel(img, cv2.CV_64F, 0, 1, ksize=3)\n",
    "\n",
    "    # Combina os gradientes\n",
    "    sobel = cv2.magnitude(sobelx, sobely)\n",
    "    sobel = cv2.convertScaleAbs(sobel)\n",
    "    return sobel\n",
    "\n",
    "# Caminhos das imagens\n",
    "img1 = \"imagem1.png\"\n",
    "img2 = \"imagem2.png\"\n",
    "\n",
    "inicio = time.time()\n",
    "\n",
    "# Processa as duas imagens de forma sequencial\n",
    "res1 = aplicar_sobel(img1)\n",
    "res2 = aplicar_sobel(img2)\n",
    "\n",
    "fim = time.time()\n",
    "\n",
    "print(f\"Tempo total (sem paralelismo): {fim - inicio:.4f} segundos\")\n",
    "\n",
    "# Exibe os resultados\n",
    "cv2.imshow(\"Sobel - Imagem 1\", res1)\n",
    "cv2.imshow(\"Sobel - Imagem 2\", res2)\n",
    "cv2.waitKey(0)\n",
    "cv2.destroyAllWindows()\n"
   ]
  },
  {
   "cell_type": "code",
   "execution_count": null,
   "id": "0cb55803-dc63-4fe9-81b9-bbbd6c373e40",
   "metadata": {},
   "outputs": [],
   "source": []
  }
 ],
 "metadata": {
  "kernelspec": {
   "display_name": "Python (ap_maquinas)",
   "language": "python",
   "name": "ap_maquinas"
  },
  "language_info": {
   "codemirror_mode": {
    "name": "ipython",
    "version": 3
   },
   "file_extension": ".py",
   "mimetype": "text/x-python",
   "name": "python",
   "nbconvert_exporter": "python",
   "pygments_lexer": "ipython3",
   "version": "3.11.13"
  }
 },
 "nbformat": 4,
 "nbformat_minor": 5
}
