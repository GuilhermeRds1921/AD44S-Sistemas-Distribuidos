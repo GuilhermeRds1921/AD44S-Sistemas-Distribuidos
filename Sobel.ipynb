{
 "cells": [
  {
   "cell_type": "code",
   "execution_count": 1,
   "id": "711673c8-f3a5-4a97-b7df-9d1bc33be27b",
   "metadata": {},
   "outputs": [],
   "source": [
    "import cv2\n",
    "import numpy as np\n",
    "import os\n",
    "import time"
   ]
  },
  {
   "cell_type": "code",
   "execution_count": 2,
   "id": "82a80304-3a02-45c3-a874-f6b2d2b77271",
   "metadata": {},
   "outputs": [
    {
     "name": "stdout",
     "output_type": "stream",
     "text": [
      "Tempo total (sem paralelismo): 0.03 segundos\n",
      "Total de imagens processadas: 2\n"
     ]
    }
   ],
   "source": [
    "def aplicar_sobel(img_path):\n",
    "    img = cv2.imread(img_path, cv2.IMREAD_GRAYSCALE)\n",
    "    if img is None:\n",
    "        return None  # caso a imagem não seja carregada\n",
    "    sobelx = cv2.Sobel(img, cv2.CV_64F, 1, 0, ksize=3)\n",
    "    sobely = cv2.Sobel(img, cv2.CV_64F, 0, 1, ksize=3)\n",
    "    sobel = cv2.magnitude(sobelx, sobely)\n",
    "    sobel = cv2.convertScaleAbs(sobel)\n",
    "    return sobel\n",
    "\n",
    "# Caminhos das pastas\n",
    "dir1 = \"./imagens1\"\n",
    "dir2 = \"./imagens2\"\n",
    "\n",
    "# Lista todos os arquivos das duas pastas\n",
    "imagens1 = [os.path.join(dir1, f) for f in os.listdir(dir1) if f.lower().endswith((\".jpg\", \".png\", \".jpeg\"))]\n",
    "imagens2 = [os.path.join(dir2, f) for f in os.listdir(dir2) if f.lower().endswith((\".jpg\", \".png\", \".jpeg\"))]\n",
    "\n",
    "inicio = time.time()\n",
    "\n",
    "# Processa sequencialmente as 1000 imagens\n",
    "for img_path in imagens1 + imagens2:\n",
    "    aplicar_sobel(img_path)\n",
    "\n",
    "fim = time.time()\n",
    "\n",
    "print(f\"Tempo total (sem paralelismo): {fim - inicio:.2f} segundos\")\n",
    "print(f\"Total de imagens processadas: {len(imagens1) + len(imagens2)}\")\n"
   ]
  },
  {
   "cell_type": "code",
   "execution_count": null,
   "id": "0cb55803-dc63-4fe9-81b9-bbbd6c373e40",
   "metadata": {},
   "outputs": [],
   "source": []
  }
 ],
 "metadata": {
  "kernelspec": {
   "display_name": "Python (ap_maquinas)",
   "language": "python",
   "name": "ap_maquinas"
  },
  "language_info": {
   "codemirror_mode": {
    "name": "ipython",
    "version": 3
   },
   "file_extension": ".py",
   "mimetype": "text/x-python",
   "name": "python",
   "nbconvert_exporter": "python",
   "pygments_lexer": "ipython3",
   "version": "3.11.13"
  }
 },
 "nbformat": 4,
 "nbformat_minor": 5
}
